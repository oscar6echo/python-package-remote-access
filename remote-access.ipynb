{
 "cells": [
  {
   "cell_type": "code",
   "execution_count": 1,
   "metadata": {
    "collapsed": true
   },
   "outputs": [],
   "source": [
    "%load_ext autoreload\n",
    "%autoreload 2"
   ]
  },
  {
   "cell_type": "code",
   "execution_count": 2,
   "metadata": {
    "collapsed": true
   },
   "outputs": [],
   "source": [
    "# import pandas as pd\n",
    "import client as prc"
   ]
  },
  {
   "cell_type": "code",
   "execution_count": 3,
   "metadata": {},
   "outputs": [
    {
     "name": "stdout",
     "output_type": "stream",
     "text": [
      "struct received from server\n"
     ]
    }
   ],
   "source": [
    "rc = prc.Connect(url_server='http://localhost:9090/v1.0')"
   ]
  },
  {
   "cell_type": "code",
   "execution_count": 4,
   "metadata": {
    "collapsed": true
   },
   "outputs": [],
   "source": [
    "# rc = prc.Connect(url_nameserver='http://localhost:9999/v1.0',\n",
    "#                  server_name='myserver')"
   ]
  },
  {
   "cell_type": "code",
   "execution_count": 5,
   "metadata": {},
   "outputs": [
    {
     "data": {
      "text/plain": [
       "{'sample_package_A': {'__init__': {},\n",
       "  'folder_a': {'__init__': {},\n",
       "   'file_a1': {'DEFAULT_NAME': {'_type': 'var', 'args': []},\n",
       "    'EXCLUDED_VARIABLE': {'_type': 'var', 'args': []},\n",
       "    'People': {'__doc__': '\\n    docstring for class People\\n    ',\n",
       "     '_type': 'class',\n",
       "     'methods': {'__init__': {'__doc__': None,\n",
       "       '_type': 'method',\n",
       "       'args': ['name', 'age=10', '**kwargs']},\n",
       "      '__repr__': {'__doc__': None, '_type': 'method', 'args': []},\n",
       "      'get_name': {'__doc__': 'description get_name',\n",
       "       '_type': 'method',\n",
       "       'args': []}}},\n",
       "    'TATA': {'_type': 'var', 'args': []},\n",
       "    'TITI': {'_type': 'var', 'args': []},\n",
       "    'bar': {'__doc__': None, '_type': 'func', 'args': ['abc']},\n",
       "    'baz': {'__doc__': 'description function file_a1/bar',\n",
       "     '_type': 'func',\n",
       "     'args': ['y', 'zzz=2']},\n",
       "    'foo': {'__doc__': 'description function file_a1/foo',\n",
       "     '_type': 'func',\n",
       "     'args': ['x']},\n",
       "    'ps': {'_type': 'var', 'args': []}},\n",
       "   'subfolder_z': {'__init__': {},\n",
       "    'file_z1': {'bar': {'__doc__': None, '_type': 'func', 'args': ['abc']}}}}},\n",
       " 'sample_package_B': {'__init__': {},\n",
       "  'file1': {'Hallo': {'__doc__': '\\n    description class Hallo\\n    ',\n",
       "    '_type': 'class',\n",
       "    'methods': {'__init__': {'__doc__': None,\n",
       "      '_type': 'method',\n",
       "      'args': ['name']},\n",
       "     '__repr__': {'__doc__': None, '_type': 'method', 'args': []},\n",
       "     'polite': {'__doc__': '\\n        description method polite\\n        ',\n",
       "      '_type': 'method',\n",
       "      'args': ['name', 'n=3', '**kwargs']},\n",
       "     'test': {'__doc__': '\\n        description method test\\n        ',\n",
       "      '_type': 'method',\n",
       "      'args': []}}},\n",
       "   'bonjour': {'__doc__': '\\n    description function bonjour\\n    ',\n",
       "    '_type': 'func',\n",
       "    'args': ['x']},\n",
       "   'hello': {'__doc__': '\\n    description function hello\\n    ',\n",
       "    '_type': 'func',\n",
       "    'args': ['y', 'x', 'z=1', '**kwargs']}},\n",
       "  'file2': {'goodbye': {'__doc__': None,\n",
       "    '_type': 'func',\n",
       "    'args': ['x', 'y', 'z']}}}}"
      ]
     },
     "execution_count": 5,
     "metadata": {},
     "output_type": "execute_result"
    }
   ],
   "source": [
    "rc.struct"
   ]
  },
  {
   "cell_type": "code",
   "execution_count": 6,
   "metadata": {
    "scrolled": false
   },
   "outputs": [],
   "source": [
    "hh = rc.build_remote_package(update_sys_modules=True)"
   ]
  },
  {
   "cell_type": "code",
   "execution_count": 7,
   "metadata": {
    "scrolled": true
   },
   "outputs": [
    {
     "data": {
      "text/plain": [
       "{'sample_package_A': {'__init__': {}, 'folder_a': {'__init__': {}, 'file_a1': {'DEFAULT_NAME': <function <lambda> at 0x10b4a0620>, 'EXCLUDED_VARIABLE': <function <lambda> at 0x10bce1d08>, 'People': <function <lambda> at 0x10b578840>, 'TATA': <function <lambda> at 0x10b5787b8>, 'TITI': <function <lambda> at 0x10a9bf268>, 'bar': <function <lambda> at 0x10a1ad378>, 'baz': <function <lambda> at 0x10b632f28>, 'foo': <function <lambda> at 0x10bcec6a8>, 'ps': <function <lambda> at 0x10bcec840>}, 'subfolder_z': {'__init__': {}, 'file_z1': {'bar': <function <lambda> at 0x10bcec488>}}}}, 'sample_package_B': {'__init__': {}, 'file1': {'Hallo': <function <lambda> at 0x10bcec510>, 'bonjour': <function <lambda> at 0x10bcec620>, 'hello': <function <lambda> at 0x10bcec730>}, 'file2': {'goodbye': <function <lambda> at 0x10bcec8c8>}}}"
      ]
     },
     "execution_count": 7,
     "metadata": {},
     "output_type": "execute_result"
    }
   ],
   "source": [
    "hh"
   ]
  },
  {
   "cell_type": "code",
   "execution_count": 8,
   "metadata": {},
   "outputs": [
    {
     "name": "stdout",
     "output_type": "stream",
     "text": [
      "['sample_package_A', 'sample_package_A.folder_a', 'sample_package_A.folder_a.file_a1', 'sample_package_A.folder_a.subfolder_z', 'sample_package_A.folder_a.subfolder_z.file_z1', 'sample_package_B', 'sample_package_B.file1', 'sample_package_B.file2']\n"
     ]
    }
   ],
   "source": [
    "import sys\n",
    "print([e for e in sys.modules.keys() if e.startswith('sample')])"
   ]
  },
  {
   "cell_type": "code",
   "execution_count": 9,
   "metadata": {},
   "outputs": [],
   "source": [
    "import sample_package_A.folder_a as qqq\n",
    "from sample_package_A.folder_a.file_a1 import foo as fooo\n"
   ]
  },
  {
   "cell_type": "code",
   "execution_count": 10,
   "metadata": {},
   "outputs": [
    {
     "data": {
      "text/plain": [
       "440"
      ]
     },
     "execution_count": 10,
     "metadata": {},
     "output_type": "execute_result"
    }
   ],
   "source": [
    "qqq.file_a1.foo(22)"
   ]
  },
  {
   "cell_type": "code",
   "execution_count": 11,
   "metadata": {},
   "outputs": [
    {
     "data": {
      "text/plain": [
       "440"
      ]
     },
     "execution_count": 11,
     "metadata": {},
     "output_type": "execute_result"
    }
   ],
   "source": [
    "fooo(22)"
   ]
  },
  {
   "cell_type": "code",
   "execution_count": 12,
   "metadata": {
    "collapsed": true
   },
   "outputs": [],
   "source": [
    "m = hh.sample_package_B.file1"
   ]
  },
  {
   "cell_type": "code",
   "execution_count": 13,
   "metadata": {},
   "outputs": [
    {
     "data": {
      "text/plain": [
       "13"
      ]
     },
     "execution_count": 13,
     "metadata": {},
     "output_type": "execute_result"
    }
   ],
   "source": [
    "m.hello(1, 2, 3, **{'abc': 'azerty'})"
   ]
  },
  {
   "cell_type": "code",
   "execution_count": 14,
   "metadata": {},
   "outputs": [
    {
     "data": {
      "text/plain": [
       "22"
      ]
     },
     "execution_count": 14,
     "metadata": {},
     "output_type": "execute_result"
    }
   ],
   "source": [
    "m.bonjour(22)"
   ]
  },
  {
   "cell_type": "code",
   "execution_count": 15,
   "metadata": {},
   "outputs": [
    {
     "data": {
      "text/plain": [
       "My name is oscar"
      ]
     },
     "execution_count": 15,
     "metadata": {},
     "output_type": "execute_result"
    }
   ],
   "source": [
    "h = m.Hallo('oscar')\n",
    "h"
   ]
  },
  {
   "cell_type": "code",
   "execution_count": 16,
   "metadata": {},
   "outputs": [
    {
     "data": {
      "text/plain": [
       "'Welcome to my hotel, Mr echo'"
      ]
     },
     "execution_count": 16,
     "metadata": {},
     "output_type": "execute_result"
    }
   ],
   "source": [
    "h.polite('echo')"
   ]
  },
  {
   "cell_type": "code",
   "execution_count": 17,
   "metadata": {
    "collapsed": true
   },
   "outputs": [],
   "source": [
    "f = hh.sample_package_A.folder_a.file_a1"
   ]
  },
  {
   "cell_type": "code",
   "execution_count": 18,
   "metadata": {},
   "outputs": [
    {
     "data": {
      "text/plain": [
       "'bernard'"
      ]
     },
     "execution_count": 18,
     "metadata": {},
     "output_type": "execute_result"
    }
   ],
   "source": [
    "f.DEFAULT_NAME()"
   ]
  },
  {
   "cell_type": "code",
   "execution_count": 19,
   "metadata": {},
   "outputs": [
    {
     "data": {
      "text/plain": [
       "421"
      ]
     },
     "execution_count": 19,
     "metadata": {},
     "output_type": "execute_result"
    }
   ],
   "source": [
    "f.TATA()"
   ]
  },
  {
   "cell_type": "code",
   "execution_count": 20,
   "metadata": {},
   "outputs": [
    {
     "data": {
      "text/plain": [
       "0     0\n",
       "1     2\n",
       "2     4\n",
       "3     6\n",
       "4     8\n",
       "5    10\n",
       "6    12\n",
       "7    14\n",
       "8    16\n",
       "9    18\n",
       "dtype: int64"
      ]
     },
     "execution_count": 20,
     "metadata": {},
     "output_type": "execute_result"
    }
   ],
   "source": [
    "se = f.ps()\n",
    "se"
   ]
  },
  {
   "cell_type": "code",
   "execution_count": 21,
   "metadata": {},
   "outputs": [
    {
     "data": {
      "text/plain": [
       "pandas.core.series.Series"
      ]
     },
     "execution_count": 21,
     "metadata": {},
     "output_type": "execute_result"
    }
   ],
   "source": [
    "type(se)"
   ]
  },
  {
   "cell_type": "code",
   "execution_count": 22,
   "metadata": {},
   "outputs": [
    {
     "data": {
      "text/plain": [
       "0     0\n",
       "1     4\n",
       "2     8\n",
       "3    12\n",
       "4    16\n",
       "5    20\n",
       "6    24\n",
       "7    28\n",
       "8    32\n",
       "9    36\n",
       "dtype: int64"
      ]
     },
     "execution_count": 22,
     "metadata": {},
     "output_type": "execute_result"
    }
   ],
   "source": [
    "2*se"
   ]
  },
  {
   "cell_type": "code",
   "execution_count": null,
   "metadata": {},
   "outputs": [],
   "source": []
  },
  {
   "cell_type": "code",
   "execution_count": 23,
   "metadata": {},
   "outputs": [
    {
     "data": {
      "text/plain": [
       "100"
      ]
     },
     "execution_count": 23,
     "metadata": {},
     "output_type": "execute_result"
    }
   ],
   "source": [
    "f.foo(5)"
   ]
  },
  {
   "cell_type": "code",
   "execution_count": 24,
   "metadata": {},
   "outputs": [
    {
     "data": {
      "text/plain": [
       "This instance contains:\n",
       "{'name': 'titi2', 'age': 10, 'count': 0, 'other': 'owns car'}"
      ]
     },
     "execution_count": 24,
     "metadata": {},
     "output_type": "execute_result"
    }
   ],
   "source": [
    "kwargs = {'other': 'owns car'}\n",
    "p = f.People(name='titi2', **kwargs)\n",
    "p"
   ]
  },
  {
   "cell_type": "code",
   "execution_count": 25,
   "metadata": {},
   "outputs": [
    {
     "data": {
      "text/plain": [
       "'titi2'"
      ]
     },
     "execution_count": 25,
     "metadata": {},
     "output_type": "execute_result"
    }
   ],
   "source": [
    "p.get_name()"
   ]
  },
  {
   "cell_type": "code",
   "execution_count": 26,
   "metadata": {},
   "outputs": [
    {
     "data": {
      "text/plain": [
       "This instance contains:\n",
       "{'name': 'titi2', 'age': 10, 'count': 1, 'other': 'owns car'}"
      ]
     },
     "execution_count": 26,
     "metadata": {},
     "output_type": "execute_result"
    }
   ],
   "source": [
    "p"
   ]
  },
  {
   "cell_type": "code",
   "execution_count": 27,
   "metadata": {},
   "outputs": [
    {
     "data": {
      "text/plain": [
       "200"
      ]
     },
     "execution_count": 27,
     "metadata": {},
     "output_type": "execute_result"
    }
   ],
   "source": [
    "hh.sample_package_A.folder_a.file_a1.foo(10)"
   ]
  },
  {
   "cell_type": "code",
   "execution_count": 28,
   "metadata": {},
   "outputs": [
    {
     "data": {
      "text/plain": [
       "'REMOTE DOCSTRING: description function file_a1/foo'"
      ]
     },
     "execution_count": 28,
     "metadata": {},
     "output_type": "execute_result"
    }
   ],
   "source": [
    "hh.sample_package_A.folder_a.file_a1.foo.__doc__"
   ]
  },
  {
   "cell_type": "code",
   "execution_count": 29,
   "metadata": {},
   "outputs": [
    {
     "data": {
      "text/plain": [
       "<function client._builder.<lambda>>"
      ]
     },
     "execution_count": 29,
     "metadata": {},
     "output_type": "execute_result"
    }
   ],
   "source": [
    "hh.sample_package_B.file1.Hallo"
   ]
  },
  {
   "cell_type": "code",
   "execution_count": 30,
   "metadata": {},
   "outputs": [
    {
     "data": {
      "text/plain": [
       "'REMOTE DOCSTRING: \\n    description class Hallo\\n    '"
      ]
     },
     "execution_count": 30,
     "metadata": {},
     "output_type": "execute_result"
    }
   ],
   "source": [
    "hh.sample_package_B.file1.Hallo.__doc__"
   ]
  },
  {
   "cell_type": "code",
   "execution_count": 31,
   "metadata": {},
   "outputs": [
    {
     "data": {
      "text/plain": [
       "function"
      ]
     },
     "execution_count": 31,
     "metadata": {},
     "output_type": "execute_result"
    }
   ],
   "source": [
    "type(hh.sample_package_B.file1.Hallo)"
   ]
  },
  {
   "cell_type": "code",
   "execution_count": 32,
   "metadata": {},
   "outputs": [
    {
     "data": {
      "text/plain": [
       "{}"
      ]
     },
     "execution_count": 32,
     "metadata": {},
     "output_type": "execute_result"
    }
   ],
   "source": [
    "hh.sample_package_B.file1.Hallo.__dict__"
   ]
  },
  {
   "cell_type": "code",
   "execution_count": 33,
   "metadata": {
    "collapsed": true
   },
   "outputs": [],
   "source": [
    "#aa = hh.sample_package_B.file1.Hallo.__init__('olive2')\n",
    "aa = hh.sample_package_B.file1.Hallo('tititi')\n"
   ]
  },
  {
   "cell_type": "code",
   "execution_count": 34,
   "metadata": {},
   "outputs": [
    {
     "data": {
      "text/plain": [
       "My name is tititi"
      ]
     },
     "execution_count": 34,
     "metadata": {},
     "output_type": "execute_result"
    }
   ],
   "source": [
    "aa"
   ]
  },
  {
   "cell_type": "code",
   "execution_count": 35,
   "metadata": {
    "collapsed": true
   },
   "outputs": [],
   "source": [
    "#aa = hh.sample_package_B.file1.Hallo.__init__('olive2')\n",
    "aa = hh.sample_package_B.file1.Hallo('qwert')\n"
   ]
  },
  {
   "cell_type": "code",
   "execution_count": 36,
   "metadata": {},
   "outputs": [
    {
     "data": {
      "text/plain": [
       "My name is qwert"
      ]
     },
     "execution_count": 36,
     "metadata": {},
     "output_type": "execute_result"
    }
   ],
   "source": [
    "aa"
   ]
  },
  {
   "cell_type": "code",
   "execution_count": 37,
   "metadata": {},
   "outputs": [
    {
     "data": {
      "text/plain": [
       "'REMOTE DOCSTRING: \\n    description class Hallo\\n    '"
      ]
     },
     "execution_count": 37,
     "metadata": {},
     "output_type": "execute_result"
    }
   ],
   "source": [
    "aa.__doc__"
   ]
  },
  {
   "cell_type": "code",
   "execution_count": 38,
   "metadata": {},
   "outputs": [
    {
     "data": {
      "text/plain": [
       "{'name': 'qwert',\n",
       " 'polite': <function client._builder.<lambda>>,\n",
       " 'sentence': 'Hallo qwert (3 times)',\n",
       " 'test': <function client._builder.<lambda>>}"
      ]
     },
     "execution_count": 38,
     "metadata": {},
     "output_type": "execute_result"
    }
   ],
   "source": [
    "aa.__dict__"
   ]
  },
  {
   "cell_type": "code",
   "execution_count": 39,
   "metadata": {},
   "outputs": [
    {
     "data": {
      "text/plain": [
       "client._builder.Builder.build_remote_package.<locals>.RemotePackage"
      ]
     },
     "execution_count": 39,
     "metadata": {},
     "output_type": "execute_result"
    }
   ],
   "source": [
    "type(hh)"
   ]
  },
  {
   "cell_type": "code",
   "execution_count": 40,
   "metadata": {
    "scrolled": false
   },
   "outputs": [
    {
     "data": {
      "text/plain": [
       "'Welcome to my hotel, Mr 46'"
      ]
     },
     "execution_count": 40,
     "metadata": {},
     "output_type": "execute_result"
    }
   ],
   "source": [
    "aa.polite(46)"
   ]
  },
  {
   "cell_type": "code",
   "execution_count": 41,
   "metadata": {
    "scrolled": false
   },
   "outputs": [
    {
     "data": {
      "text/plain": [
       "'testing: qwert'"
      ]
     },
     "execution_count": 41,
     "metadata": {},
     "output_type": "execute_result"
    }
   ],
   "source": [
    "r = aa.test()\n",
    "r"
   ]
  },
  {
   "cell_type": "code",
   "execution_count": 42,
   "metadata": {},
   "outputs": [
    {
     "data": {
      "text/plain": [
       "{'name': 'qwert',\n",
       " 'polite': <function client._builder.<lambda>>,\n",
       " 'sentence': 'Hallo qwert (3 times)',\n",
       " 'test': <function client._builder.<lambda>>}"
      ]
     },
     "execution_count": 42,
     "metadata": {},
     "output_type": "execute_result"
    }
   ],
   "source": [
    "aa.__dict__"
   ]
  },
  {
   "cell_type": "code",
   "execution_count": 43,
   "metadata": {},
   "outputs": [
    {
     "data": {
      "text/plain": [
       "My name is qwert"
      ]
     },
     "execution_count": 43,
     "metadata": {},
     "output_type": "execute_result"
    }
   ],
   "source": [
    "aa"
   ]
  },
  {
   "cell_type": "code",
   "execution_count": 44,
   "metadata": {},
   "outputs": [
    {
     "data": {
      "text/plain": [
       "{'2017-10-30 23:13:47.275653': My name is oscar,\n",
       " '2017-10-30 23:13:47.989182': This instance contains:\n",
       " {'name': 'titi2', 'age': 10, 'count': 1, 'other': 'owns car'},\n",
       " '2017-10-30 23:13:48.261121': My name is tititi,\n",
       " '2017-10-30 23:13:48.325336': My name is qwert,\n",
       " 'builder': <client._builder.Builder at 0x10b57ba90>}"
      ]
     },
     "execution_count": 44,
     "metadata": {},
     "output_type": "execute_result"
    }
   ],
   "source": [
    "prc.global_dic_store"
   ]
  },
  {
   "cell_type": "code",
   "execution_count": 45,
   "metadata": {},
   "outputs": [
    {
     "data": {
      "text/plain": [
       "422"
      ]
     },
     "execution_count": 45,
     "metadata": {},
     "output_type": "execute_result"
    }
   ],
   "source": [
    "f.TATA()"
   ]
  },
  {
   "cell_type": "code",
   "execution_count": 46,
   "metadata": {},
   "outputs": [],
   "source": [
    "# prc.global_dic_store['builder'].li_module"
   ]
  },
  {
   "cell_type": "code",
   "execution_count": null,
   "metadata": {
    "collapsed": true
   },
   "outputs": [],
   "source": []
  },
  {
   "cell_type": "code",
   "execution_count": null,
   "metadata": {
    "collapsed": true
   },
   "outputs": [],
   "source": []
  },
  {
   "cell_type": "code",
   "execution_count": null,
   "metadata": {
    "collapsed": true
   },
   "outputs": [],
   "source": []
  }
 ],
 "metadata": {
  "kernelspec": {
   "display_name": "Python 3",
   "language": "python",
   "name": "python3"
  },
  "language_info": {
   "codemirror_mode": {
    "name": "ipython",
    "version": 3
   },
   "file_extension": ".py",
   "mimetype": "text/x-python",
   "name": "python",
   "nbconvert_exporter": "python",
   "pygments_lexer": "ipython3",
   "version": "3.6.1"
  }
 },
 "nbformat": 4,
 "nbformat_minor": 2
}
